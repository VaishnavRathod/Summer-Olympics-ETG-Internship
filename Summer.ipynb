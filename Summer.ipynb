{
 "cells": [
  {
   "cell_type": "markdown",
   "id": "b46bcd66",
   "metadata": {},
   "source": [
    "# Summer Olympics Data Analysis Assignment\n"
   ]
  },
  {
   "cell_type": "code",
   "execution_count": 70,
   "id": "c2d9d890",
   "metadata": {},
   "outputs": [],
   "source": [
    "import pandas as pd\n",
    "import matplotlib.pyplot as plt\n",
    "import numpy as np\n"
   ]
  },
  {
   "cell_type": "code",
   "execution_count": 71,
   "id": "c01ad9e0",
   "metadata": {},
   "outputs": [],
   "source": [
    "df = pd.read_csv('summer.csv')"
   ]
  },
  {
   "cell_type": "code",
   "execution_count": 72,
   "id": "ae84c13e",
   "metadata": {},
   "outputs": [
    {
     "data": {
      "text/html": [
       "<div>\n",
       "<style scoped>\n",
       "    .dataframe tbody tr th:only-of-type {\n",
       "        vertical-align: middle;\n",
       "    }\n",
       "\n",
       "    .dataframe tbody tr th {\n",
       "        vertical-align: top;\n",
       "    }\n",
       "\n",
       "    .dataframe thead th {\n",
       "        text-align: right;\n",
       "    }\n",
       "</style>\n",
       "<table border=\"1\" class=\"dataframe\">\n",
       "  <thead>\n",
       "    <tr style=\"text-align: right;\">\n",
       "      <th></th>\n",
       "      <th>Year</th>\n",
       "      <th>City</th>\n",
       "      <th>Sport</th>\n",
       "      <th>Discipline</th>\n",
       "      <th>Athlete</th>\n",
       "      <th>Country</th>\n",
       "      <th>Gender</th>\n",
       "      <th>Event</th>\n",
       "      <th>Medal</th>\n",
       "    </tr>\n",
       "  </thead>\n",
       "  <tbody>\n",
       "    <tr>\n",
       "      <th>0</th>\n",
       "      <td>1896</td>\n",
       "      <td>Athens</td>\n",
       "      <td>Aquatics</td>\n",
       "      <td>Swimming</td>\n",
       "      <td>HAJOS, Alfred</td>\n",
       "      <td>HUN</td>\n",
       "      <td>Men</td>\n",
       "      <td>100M Freestyle</td>\n",
       "      <td>Gold</td>\n",
       "    </tr>\n",
       "    <tr>\n",
       "      <th>1</th>\n",
       "      <td>1896</td>\n",
       "      <td>Athens</td>\n",
       "      <td>Aquatics</td>\n",
       "      <td>Swimming</td>\n",
       "      <td>HERSCHMANN, Otto</td>\n",
       "      <td>AUT</td>\n",
       "      <td>Men</td>\n",
       "      <td>100M Freestyle</td>\n",
       "      <td>Silver</td>\n",
       "    </tr>\n",
       "    <tr>\n",
       "      <th>2</th>\n",
       "      <td>1896</td>\n",
       "      <td>Athens</td>\n",
       "      <td>Aquatics</td>\n",
       "      <td>Swimming</td>\n",
       "      <td>DRIVAS, Dimitrios</td>\n",
       "      <td>GRE</td>\n",
       "      <td>Men</td>\n",
       "      <td>100M Freestyle For Sailors</td>\n",
       "      <td>Bronze</td>\n",
       "    </tr>\n",
       "    <tr>\n",
       "      <th>3</th>\n",
       "      <td>1896</td>\n",
       "      <td>Athens</td>\n",
       "      <td>Aquatics</td>\n",
       "      <td>Swimming</td>\n",
       "      <td>MALOKINIS, Ioannis</td>\n",
       "      <td>GRE</td>\n",
       "      <td>Men</td>\n",
       "      <td>100M Freestyle For Sailors</td>\n",
       "      <td>Gold</td>\n",
       "    </tr>\n",
       "    <tr>\n",
       "      <th>4</th>\n",
       "      <td>1896</td>\n",
       "      <td>Athens</td>\n",
       "      <td>Aquatics</td>\n",
       "      <td>Swimming</td>\n",
       "      <td>CHASAPIS, Spiridon</td>\n",
       "      <td>GRE</td>\n",
       "      <td>Men</td>\n",
       "      <td>100M Freestyle For Sailors</td>\n",
       "      <td>Silver</td>\n",
       "    </tr>\n",
       "  </tbody>\n",
       "</table>\n",
       "</div>"
      ],
      "text/plain": [
       "   Year    City     Sport Discipline             Athlete Country Gender  \\\n",
       "0  1896  Athens  Aquatics   Swimming       HAJOS, Alfred     HUN    Men   \n",
       "1  1896  Athens  Aquatics   Swimming    HERSCHMANN, Otto     AUT    Men   \n",
       "2  1896  Athens  Aquatics   Swimming   DRIVAS, Dimitrios     GRE    Men   \n",
       "3  1896  Athens  Aquatics   Swimming  MALOKINIS, Ioannis     GRE    Men   \n",
       "4  1896  Athens  Aquatics   Swimming  CHASAPIS, Spiridon     GRE    Men   \n",
       "\n",
       "                        Event   Medal  \n",
       "0              100M Freestyle    Gold  \n",
       "1              100M Freestyle  Silver  \n",
       "2  100M Freestyle For Sailors  Bronze  \n",
       "3  100M Freestyle For Sailors    Gold  \n",
       "4  100M Freestyle For Sailors  Silver  "
      ]
     },
     "execution_count": 72,
     "metadata": {},
     "output_type": "execute_result"
    }
   ],
   "source": [
    "df.head()"
   ]
  },
  {
   "cell_type": "code",
   "execution_count": 73,
   "id": "5cdf50d6",
   "metadata": {},
   "outputs": [
    {
     "data": {
      "text/plain": [
       "(31165, 9)"
      ]
     },
     "execution_count": 73,
     "metadata": {},
     "output_type": "execute_result"
    }
   ],
   "source": [
    "df.shape"
   ]
  },
  {
   "cell_type": "code",
   "execution_count": 74,
   "id": "ac0ae591",
   "metadata": {},
   "outputs": [
    {
     "data": {
      "text/plain": [
       "Year          0\n",
       "City          0\n",
       "Sport         0\n",
       "Discipline    0\n",
       "Athlete       0\n",
       "Country       4\n",
       "Gender        0\n",
       "Event         0\n",
       "Medal         0\n",
       "dtype: int64"
      ]
     },
     "execution_count": 74,
     "metadata": {},
     "output_type": "execute_result"
    }
   ],
   "source": [
    "df.isnull().sum()"
   ]
  },
  {
   "cell_type": "markdown",
   "id": "dca9ee66",
   "metadata": {},
   "source": [
    "## 1. In how many cities Summer Olympics is held so far?"
   ]
  },
  {
   "cell_type": "code",
   "execution_count": 75,
   "id": "f6dc2572",
   "metadata": {},
   "outputs": [
    {
     "name": "stdout",
     "output_type": "stream",
     "text": [
      "['Athens' 'Paris' 'St Louis' 'London' 'Stockholm' 'Antwerp' 'Amsterdam'\n",
      " 'Los Angeles' 'Berlin' 'Helsinki' 'Melbourne / Stockholm' 'Rome' 'Tokyo'\n",
      " 'Mexico' 'Munich' 'Montreal' 'Moscow' 'Seoul' 'Barcelona' 'Atlanta'\n",
      " 'Sydney' 'Beijing']\n",
      "Number of cities Summer Olympics is held is 22\n"
     ]
    }
   ],
   "source": [
    "print(df['City'].unique())\n",
    "print(\"Number of cities Summer Olympics is held is\",len(df['City'].unique()))"
   ]
  },
  {
   "cell_type": "markdown",
   "id": "c5730d8f",
   "metadata": {},
   "source": [
    "## 2. Which sport is having most number of Gold Medals so far? (Top 5)"
   ]
  },
  {
   "cell_type": "code",
   "execution_count": 80,
   "id": "7a9db80a",
   "metadata": {},
   "outputs": [
    {
     "name": "stdout",
     "output_type": "stream",
     "text": [
      "         Sport  Medals\n",
      "0     Aquatics    1421\n",
      "1    Athletics    1215\n",
      "17      Rowing     890\n",
      "4   Gymnastics     820\n",
      "3      Fencing     552\n"
     ]
    },
    {
     "data": {
      "image/png": "[encoded data removed]",
      "text/plain": [
       "<Figure size 432x288 with 1 Axes>"
      ]
     },
     "metadata": {
      "needs_background": "light"
     },
     "output_type": "display_data"
    }
   ],
   "source": [
    "g = df[df['Medal'] == 'Gold' ]\n",
    "sport_g = []\n",
    "for sport in g['Sport'].unique():\n",
    "    sport_g.append([sport, len(g[g['Sport'] == sport])])\n",
    "    \n",
    "sport_g = pd.DataFrame(sport_g, columns = ['Sport','Medals'])\n",
    "\n",
    "sport_g.sort_values(by = 'Medals' ,ascending = False).head().plot(x = 'Sport', y ='Medals'  ,kind = 'bar')\n",
    "print(sport_g.sort_values(by = 'Medals' ,ascending = False).head())"
   ]
  },
  {
   "cell_type": "markdown",
   "id": "f53ed870",
   "metadata": {},
   "source": [
    "## 3. Which sport is having most number of medals so far? (Top 5)"
   ]
  },
  {
   "cell_type": "code",
   "execution_count": 78,
   "id": "09c7bad6",
   "metadata": {},
   "outputs": [
    {
     "name": "stdout",
     "output_type": "stream",
     "text": [
      "         Sport  Medals\n",
      "0     Aquatics    4170\n",
      "1    Athletics    3638\n",
      "17      Rowing    2667\n",
      "4   Gymnastics    2307\n",
      "3      Fencing    1613\n"
     ]
    },
    {
     "data": {
      "image/png": "[encoded data removed]",
      "text/plain": [
       "<Figure size 432x288 with 1 Axes>"
      ]
     },
     "metadata": {
      "needs_background": "light"
     },
     "output_type": "display_data"
    }
   ],
   "source": [
    "m = []\n",
    "for i in df['Sport'].unique():\n",
    "    m.append([i, len(df[df['Sport'] == i])])\n",
    "    \n",
    "m = pd.DataFrame(m, columns = ['Sport','Medals'])\n",
    "\n",
    "m.sort_values(by = 'Medals' ,ascending = False).head().plot(x = 'Sport', y ='Medals'  ,kind = 'bar')\n",
    "print(m.sort_values(by = 'Medals' ,ascending = False).head())    \n",
    "    "
   ]
  },
  {
   "cell_type": "markdown",
   "id": "5a682050",
   "metadata": {},
   "source": [
    "## 4. Which player has won most number of medals? (Top 5)"
   ]
  },
  {
   "cell_type": "code",
   "execution_count": 89,
   "id": "385a1a84",
   "metadata": {},
   "outputs": [
    {
     "name": "stdout",
     "output_type": "stream",
     "text": [
      "                    Athlete  Total Medals\n",
      "18640       PHELPS, Michael            22\n",
      "7197       LATYNINA, Larisa            18\n",
      "9948     ANDRIANOV, Nikolay            15\n",
      "6591           ONO, Takashi            13\n",
      "5103   MANGIAROTTI, Edoardo            13\n"
     ]
    },
    {
     "data": {
      "image/png": "[encoded data removed]",
      "text/plain": [
       "<Figure size 432x288 with 1 Axes>"
      ]
     },
     "metadata": {
      "needs_background": "light"
     },
     "output_type": "display_data"
    }
   ],
   "source": [
    "p = []\n",
    "for i in df['Athlete'].unique():\n",
    "    p.append([i,len(df[df['Athlete'] == i])])\n",
    "    \n",
    "p = pd.DataFrame(p, columns = ['Athlete','Total Medals'])\n",
    "\n",
    "p.sort_values(by = 'Total Medals' ,ascending = False).head().plot(x = 'Athlete', y ='Total Medals'  ,kind = 'bar')\n",
    "print(p.sort_values(by = 'Total Medals' ,ascending = False).head())    \n",
    "    "
   ]
  },
  {
   "cell_type": "code",
   "execution_count": 85,
   "id": "c320d18e",
   "metadata": {},
   "outputs": [
    {
     "data": {
      "text/plain": [
       "22762"
      ]
     },
     "execution_count": 85,
     "metadata": {},
     "output_type": "execute_result"
    }
   ],
   "source": [
    "len(df['Athlete'].unique())"
   ]
  },
  {
   "cell_type": "markdown",
   "id": "cb3f4fc1",
   "metadata": {},
   "source": [
    "## 5. Which player has won most number Gold Medals of medals? (Top 5)"
   ]
  },
  {
   "cell_type": "code",
   "execution_count": 82,
   "id": "5fbfabd9",
   "metadata": {},
   "outputs": [
    {
     "name": "stdout",
     "output_type": "stream",
     "text": [
      "               Athlete  Gold Medals\n",
      "6851   PHELPS, Michael           18\n",
      "3320       SPITZ, Mark            9\n",
      "2714  LATYNINA, Larisa            9\n",
      "4630       LEWIS, Carl            9\n",
      "907       NURMI, Paavo            9\n"
     ]
    },
    {
     "data": {
      "image/png": "[encoded data removed]",
      "text/plain": [
       "<Figure size 432x288 with 1 Axes>"
      ]
     },
     "metadata": {
      "needs_background": "light"
     },
     "output_type": "display_data"
    }
   ],
   "source": [
    "g = df[df['Medal'] == 'Gold' ]\n",
    "sport_g = []\n",
    "for Athlete in g['Athlete'].unique():\n",
    "    sport_g.append([Athlete, len(g[g['Athlete'] == Athlete])])\n",
    "    \n",
    "sport_g = pd.DataFrame(sport_g, columns = ['Athlete','Gold Medals'])\n",
    "\n",
    "sport_g.sort_values(by = 'Gold Medals' ,ascending = False).head().plot(x = 'Athlete', y ='Gold Medals'  ,kind = 'bar')\n",
    "print(sport_g.sort_values(by = 'Gold Medals' ,ascending = False).head())"
   ]
  },
  {
   "cell_type": "markdown",
   "id": "17725bf3",
   "metadata": {},
   "source": [
    "## 6. In which year India won first Gold Medal in Summer Olympics?"
   ]
  },
  {
   "cell_type": "code",
   "execution_count": 101,
   "id": "e3481f5d",
   "metadata": {},
   "outputs": [
    {
     "data": {
      "text/html": [
       "<div>\n",
       "<style scoped>\n",
       "    .dataframe tbody tr th:only-of-type {\n",
       "        vertical-align: middle;\n",
       "    }\n",
       "\n",
       "    .dataframe tbody tr th {\n",
       "        vertical-align: top;\n",
       "    }\n",
       "\n",
       "    .dataframe thead th {\n",
       "        text-align: right;\n",
       "    }\n",
       "</style>\n",
       "<table border=\"1\" class=\"dataframe\">\n",
       "  <thead>\n",
       "    <tr style=\"text-align: right;\">\n",
       "      <th></th>\n",
       "      <th>Year</th>\n",
       "      <th>City</th>\n",
       "      <th>Sport</th>\n",
       "      <th>Discipline</th>\n",
       "      <th>Athlete</th>\n",
       "      <th>Country</th>\n",
       "      <th>Gender</th>\n",
       "      <th>Event</th>\n",
       "      <th>Medal</th>\n",
       "    </tr>\n",
       "  </thead>\n",
       "  <tbody>\n",
       "    <tr>\n",
       "      <th>5512</th>\n",
       "      <td>1928</td>\n",
       "      <td>Amsterdam</td>\n",
       "      <td>Hockey</td>\n",
       "      <td>Hockey</td>\n",
       "      <td>ALLEN, Richard James</td>\n",
       "      <td>IND</td>\n",
       "      <td>Men</td>\n",
       "      <td>Hockey</td>\n",
       "      <td>Gold</td>\n",
       "    </tr>\n",
       "  </tbody>\n",
       "</table>\n",
       "</div>"
      ],
      "text/plain": [
       "      Year       City   Sport Discipline               Athlete Country Gender  \\\n",
       "5512  1928  Amsterdam  Hockey     Hockey  ALLEN, Richard James     IND    Men   \n",
       "\n",
       "       Event Medal  \n",
       "5512  Hockey  Gold  "
      ]
     },
     "execution_count": 101,
     "metadata": {},
     "output_type": "execute_result"
    }
   ],
   "source": [
    "ind = df[df['Medal'] == 'Gold'].loc[df['Country'] == 'IND'].sort_values(by = 'Year')\n",
    "ind.head(1)"
   ]
  },
  {
   "cell_type": "markdown",
   "id": "32bacbc7",
   "metadata": {},
   "source": [
    "## 7. Which event is most popular in terms on number of players? (Top 5)"
   ]
  },
  {
   "cell_type": "code",
   "execution_count": 102,
   "id": "b10b37c3",
   "metadata": {},
   "outputs": [
    {
     "name": "stdout",
     "output_type": "stream",
     "text": [
      "                Event  Total Players\n",
      "80           Football           1497\n",
      "176            Hockey           1422\n",
      "138  Team Competition           1147\n",
      "327        Basketball           1012\n",
      "337          Handball            973\n"
     ]
    },
    {
     "data": {
      "image/png": "[encoded data removed]",
      "text/plain": [
       "<Figure size 432x288 with 1 Axes>"
      ]
     },
     "metadata": {
      "needs_background": "light"
     },
     "output_type": "display_data"
    }
   ],
   "source": [
    "event = []\n",
    "for i in df['Event'].unique():\n",
    "    event.append([i, len(df[df['Event'] == i])])\n",
    "    \n",
    "event = pd.DataFrame(event, columns = ['Event','Total Players'])\n",
    "\n",
    "event.sort_values(by = 'Total Players' ,ascending = False).head().plot(x = 'Event', y ='Total Players'  ,kind = 'bar')\n",
    "print(event.sort_values(by = 'Total Players' ,ascending = False).head()) "
   ]
  },
  {
   "cell_type": "markdown",
   "id": "08c21ce9",
   "metadata": {},
   "source": [
    "## 8. Which sport is having most female Gold Medalists? (Top 5)"
   ]
  },
  {
   "cell_type": "code",
   "execution_count": 120,
   "id": "8c2010f2",
   "metadata": {},
   "outputs": [
    {
     "name": "stdout",
     "output_type": "stream",
     "text": [
      "         Sport  Female Gold Medalists\n",
      "4     Aquatics                    589\n",
      "7    Athletics                    389\n",
      "8   Gymnastics                    268\n",
      "14      Rowing                    217\n",
      "11  Volleyball                    166\n"
     ]
    },
    {
     "data": {
      "image/png": "[encoded data removed]",
      "text/plain": [
       "<Figure size 432x288 with 1 Axes>"
      ]
     },
     "metadata": {
      "needs_background": "light"
     },
     "output_type": "display_data"
    }
   ],
   "source": [
    "n = []\n",
    "w = df[df['Gender'] == 'Women']\n",
    "gw = w[w['Medal'] == 'Gold']\n",
    "for i in gw['Sport'].unique():\n",
    "    n.append([i,len(gw[gw['Sport'] == i])])\n",
    "    \n",
    "n = pd.DataFrame(n, columns = ['Sport','Female Gold Medalists'])\n",
    "\n",
    "n.sort_values(by = 'Female Gold Medalists' ,ascending = False).head().plot(x = 'Sport', y ='Female Gold Medalists'  ,kind = 'bar')\n",
    "print(n.sort_values(by = 'Female Gold Medalists' ,ascending = False).head())     \n",
    "   \n",
    "\n"
   ]
  },
  {
   "cell_type": "code",
   "execution_count": null,
   "id": "3ad267c8",
   "metadata": {},
   "outputs": [],
   "source": []
  }
 ],
 "metadata": {
  "kernelspec": {
   "display_name": "Python 3",
   "language": "python",
   "name": "python3"
  },
  "language_info": {
   "codemirror_mode": {
    "name": "ipython",
    "version": 3
   },
   "file_extension": ".py",
   "mimetype": "text/x-python",
   "name": "python",
   "nbconvert_exporter": "python",
   "pygments_lexer": "ipython3",
   "version": "3.8.8"
  }
 },
 "nbformat": 4,
 "nbformat_minor": 5
}
